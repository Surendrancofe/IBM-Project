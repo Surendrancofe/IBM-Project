{
 "cells": [
  {
   "cell_type": "markdown",
   "id": "18c19e5c-dc38-4c64-a66d-e24e96f37cad",
   "metadata": {},
   "source": [
    "# Data Science Tools and Ecosystem"
   ]
  },
  {
   "cell_type": "markdown",
   "id": "5ff707a4-0ccb-410b-bfa8-22bd99bc6c1a",
   "metadata": {},
   "source": [
    "In This Notebook, Data Science Tools and Ecosystem are Summarized"
   ]
  },
  {
   "cell_type": "markdown",
   "id": "11a8d960-c52d-429b-9f24-db957450dadb",
   "metadata": {
    "tags": []
   },
   "source": [
    "### Objectives\n",
    "- learn tools for data science\n",
    "- learn the langauges for data science\n",
    "- other development environments"
   ]
  },
  {
   "cell_type": "markdown",
   "id": "b0c138b1-b265-42f3-8fe4-3847f05c9073",
   "metadata": {},
   "source": [
    "Some of the Popular Languages that Data Scientists use are:\n",
    "1. Python\n",
    "2. R\n",
    "3. SQL"
   ]
  },
  {
   "cell_type": "markdown",
   "id": "68143455-45c1-415e-be6f-5b572f029e15",
   "metadata": {},
   "source": [
    "Some of the Most Commonly used Libraries used by Data Scientists include:\n",
    "1. Pandas\n",
    "2. NumPy\n",
    "3. Matplotlib\n",
    "4. Scikitlearn"
   ]
  },
  {
   "cell_type": "markdown",
   "id": "a25e2134-1dfb-4f74-ac88-053b131ccda7",
   "metadata": {},
   "source": [
    "# Data Science Tools\n",
    "1. JupyterLab\n",
    "2. JupyterNotebooks\n",
    "3. RStudio"
   ]
  },
  {
   "cell_type": "markdown",
   "id": "9a58b43a-dc83-4769-a96c-bac5dfda0b56",
   "metadata": {},
   "source": [
    "### Below are a few examples of evaluating arithmetic expressions in python"
   ]
  },
  {
   "cell_type": "code",
   "execution_count": 1,
   "id": "aabff35c-537a-4390-bd99-eb51f37d58f3",
   "metadata": {
    "tags": []
   },
   "outputs": [
    {
     "data": {
      "text/plain": [
       "17"
      ]
     },
     "execution_count": 1,
     "metadata": {},
     "output_type": "execute_result"
    }
   ],
   "source": [
    "(3*4)+5"
   ]
  },
  {
   "cell_type": "code",
   "execution_count": 2,
   "id": "c8444e1c-05b4-4cee-ab04-86f1887a2fdc",
   "metadata": {
    "tags": []
   },
   "outputs": [
    {
     "data": {
      "text/plain": [
       "3.3333333333333335"
      ]
     },
     "execution_count": 2,
     "metadata": {},
     "output_type": "execute_result"
    }
   ],
   "source": [
    "# This will convert 200 minutes to hours by dividing by 60\n",
    "200/60"
   ]
  },
  {
   "cell_type": "markdown",
   "id": "210dda09-b617-4712-b3a7-6d0871bddef4",
   "metadata": {},
   "source": [
    "## Author\n",
    "Surendran Ravichandran"
   ]
  },
  {
   "cell_type": "code",
   "execution_count": null,
   "id": "5452cffd-cb71-492d-8d6c-df30b4b9d4c9",
   "metadata": {},
   "outputs": [],
   "source": []
  }
 ],
 "metadata": {
  "kernelspec": {
   "display_name": "Python",
   "language": "python",
   "name": "conda-env-python-py"
  },
  "language_info": {
   "codemirror_mode": {
    "name": "ipython",
    "version": 3
   },
   "file_extension": ".py",
   "mimetype": "text/x-python",
   "name": "python",
   "nbconvert_exporter": "python",
   "pygments_lexer": "ipython3",
   "version": "3.7.12"
  }
 },
 "nbformat": 4,
 "nbformat_minor": 5
}
